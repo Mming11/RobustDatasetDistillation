{
 "cells": [
  {
   "cell_type": "markdown",
   "metadata": {},
   "source": [
    "# Generate Truncated Data for Robustness Evaluation"
   ]
  },
  {
   "cell_type": "markdown",
   "metadata": {},
   "source": [
    "## CIFAR-10"
   ]
  },
  {
   "cell_type": "code",
   "execution_count": null,
   "metadata": {},
   "outputs": [],
   "source": [
    "import torchvision\n",
    "import torchvision.transforms as transforms\n",
    "import torch\n",
    "import numpy as np\n",
    "\n",
    "test_data = torchvision.datasets.CIFAR10(root='./data', train=False, download=True, transform=transforms.ToTensor())"
   ]
  },
  {
   "cell_type": "markdown",
   "metadata": {},
   "source": [
    "### Invert image color"
   ]
  },
  {
   "cell_type": "code",
   "execution_count": null,
   "metadata": {},
   "outputs": [],
   "source": [
    "from PIL import ImageOps\n",
    "to = transforms.ToTensor()\n",
    "\n",
    "invert_test_data = []\n",
    "invert_test_target = []\n",
    "\n",
    "for image, label in test_data:\n",
    "    img = transforms.functional.to_pil_image(image)\n",
    "    img = ImageOps.invert(img)\n",
    "    \n",
    "    invert_test_data.append(to(img))\n",
    "    \n",
    "    invert_test_target.append((label))\n",
    "\n",
    "torch.save([invert_test_data, invert_test_target], 'invert_cifar10_test.pt')"
   ]
  },
  {
   "cell_type": "markdown",
   "metadata": {},
   "source": [
    "### Add gaussian noise"
   ]
  },
  {
   "cell_type": "code",
   "execution_count": null,
   "metadata": {},
   "outputs": [],
   "source": [
    "def add_gaussian_noise(image_tensor, mean=0, var=0.005):\n",
    "\n",
    "    image = image_tensor.permute(1, 2, 0).numpy()  \n",
    "    \n",
    "  \n",
    "    noise = np.random.normal(mean, var ** 0.5, image.shape)\n",
    "    out = image + noise\n",
    "   \n",
    "    out = np.clip(out, 0.0, 1.0)  \n",
    "   \n",
    "    out = torch.from_numpy(np.float32(out)).permute(2, 0, 1)\n",
    "    \n",
    "    return out\n",
    "\n",
    "\n",
    "noisy_test_data = []\n",
    "noisy_test_target = []\n",
    "\n",
    "\n",
    "for image, label in test_data:\n",
    "    \n",
    "    new_img = add_gaussian_noise(image)\n",
    "    noisy_test_data.append((new_img))\n",
    "    noisy_test_target.append((label))\n",
    "    \n",
    "\n",
    "torch.save([noisy_test_data, noisy_test_target], 'noise_cifar10_test.pt')"
   ]
  },
  {
   "cell_type": "markdown",
   "metadata": {},
   "source": [
    "### Add blur effects"
   ]
  },
  {
   "cell_type": "code",
   "execution_count": null,
   "metadata": {},
   "outputs": [],
   "source": [
    "from PIL import ImageFilter\n",
    "\n",
    "blur_test_data = []\n",
    "blur_test_target = []\n",
    "to = transforms.ToTensor()\n",
    "for image, label in test_data:\n",
    "    img = transforms.functional.to_pil_image(image)\n",
    "    img = img.filter(ImageFilter.GaussianBlur(radius=2))\n",
    "    blur_test_data.append(to(img))\n",
    "    blur_test_target.append((label))\n",
    "\n",
    "torch.save([blur_test_data, blur_test_target], 'blur_cifar10_test.pt')"
   ]
  },
  {
   "cell_type": "markdown",
   "metadata": {},
   "source": [
    "## ImageNet"
   ]
  },
  {
   "cell_type": "code",
   "execution_count": null,
   "metadata": {},
   "outputs": [],
   "source": [
    "import os\n",
    "import numpy as np\n",
    "from PIL import Image, ImageFilter, ImageOps\n",
    "from tqdm import tqdm\n",
    "\n",
    "\n",
    "def add_noise(image):\n",
    "    image = np.asarray(image,dtype=np.float32) / 255.\n",
    "    noise = np.random.normal(0, 0.2, image.shape).astype(dtype=np.float32)\n",
    "    output = image + noise\n",
    "    output = np.clip(output, 0, 1)\n",
    "    output = np.uint8(output * 255)\n",
    "    output = Image.fromarray(output)\n",
    "    return output\n",
    "\n",
    "\n",
    "def blur(image):\n",
    "    img = image.filter(ImageFilter.GaussianBlur(radius=2))\n",
    "    return img\n",
    "\n",
    "\n",
    "def invert(image):\n",
    "    try:\n",
    "        img = ImageOps.invert(image)\n",
    "    except OSError:\n",
    "        image = image.convert('RGB')\n",
    "        img = ImageOps.invert(image)\n",
    "        \n",
    "    return img\n",
    "\n",
    "\n",
    "def make_dirs(image_dir, image_class):\n",
    "    os.makedirs(f'{image_dir}/train/{image_class}', exist_ok=True)\n",
    "    os.makedirs(f'{image_dir}/val/{image_class}', exist_ok=True)\n",
    "\n",
    "\n",
    "imagenet_dir = '/data/datasets/ImageNet' # Modify the directory here for your own setting.\n",
    "imagenet_noise_dir = f'{imagenet_dir}/ImageNet-noise' # Target directory for storing ImageNet with gaussian noise.\n",
    "imagenet_invert_dir = f'{imagenet_dir}/ImageNet-invert' # Target directory for storing ImageNet with gaussian noise.\n",
    "imagenet_blur_dir = f'{imagenet_dir}/ImageNet-blur' # Target directory for storing ImageNet with gaussian noise.\n",
    "image_classes = os.listdir(f'{imagenet_dir}/val')\n",
    "print(\"working.....\")\n",
    "for image_class in tqdm(image_classes):\n",
    "    make_dirs(imagenet_noise_dir, image_class)\n",
    "    make_dirs(imagenet_invert_dir, image_class)\n",
    "    make_dirs(imagenet_blur_dir, image_class)\n",
    "    image_paths = os.listdir(f'{imagenet_dir}/val/{image_class}')\n",
    "    for path in image_paths:\n",
    "        image = Image.open(f'{imagenet_dir}/val/{image_class}/{path}')\n",
    "        image_noise = add_noise(image)\n",
    "        image_invert = invert(image)\n",
    "        image_blur = blur(image)\n",
    "\n",
    "        try:\n",
    "            image_noise.save(f'{imagenet_noise_dir}/val/{image_class}/{path}')\n",
    "        except OSError:\n",
    "            image_noise = image_noise.convert('RGB')\n",
    "            image_noise.save(f'{imagenet_noise_dir}/val/{image_class}/{path}')\n",
    "\n",
    "        try:\n",
    "            image_invert.save(f'{imagenet_invert_dir}/val/{image_class}/{path}')\n",
    "        except OSError:\n",
    "            image_invert = image_invert.convert('RGB')\n",
    "            image_invert.save(f'{imagenet_invert_dir}/val/{image_class}/{path}')\n",
    "\n",
    "        try:\n",
    "            image_blur.save(f'{imagenet_blur_dir}/val/{image_class}/{path}')\n",
    "        except OSError:\n",
    "            image_blur = image_blur.convert('RGB')\n",
    "            image_blur.save(f'{imagenet_blur_dir}/val/{image_class}/{path}')"
   ]
  }
 ],
 "metadata": {
  "language_info": {
   "name": "python"
  },
  "orig_nbformat": 4
 },
 "nbformat": 4,
 "nbformat_minor": 2
}
